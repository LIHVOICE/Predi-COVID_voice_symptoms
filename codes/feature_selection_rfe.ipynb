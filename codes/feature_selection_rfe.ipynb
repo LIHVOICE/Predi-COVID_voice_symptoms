{
 "cells": [
  {
   "cell_type": "code",
   "execution_count": null,
   "id": "37b2d2e8",
   "metadata": {},
   "outputs": [],
   "source": [
    "import os\n",
    "import numpy as np\n",
    "import pandas as pd\n",
    "\n",
    "from sklearn.ensemble import RandomForestClassifier\n",
    "\n",
    "from sklearn.feature_selection import RFE\n",
    "\n",
    "from sklearn.model_selection import StratifiedKFold, RandomizedSearchCV\n",
    "from sklearn.preprocessing import StandardScaler\n",
    "from sklearn.utils import class_weight\n",
    "from imblearn.over_sampling import SMOTE\n",
    "from imblearn.pipeline import Pipeline\n",
    "\n",
    "from collections import Counter\n",
    "import copy\n",
    "\n",
    "from sklearn import metrics\n",
    "\n",
    "import warnings\n",
    "warnings.filterwarnings(\"ignore\")"
   ]
  },
  {
   "cell_type": "markdown",
   "id": "49e8393f",
   "metadata": {},
   "source": [
    "# tuning for optimal number of features"
   ]
  },
  {
   "cell_type": "code",
   "execution_count": null,
   "id": "1ef3c1fe",
   "metadata": {},
   "outputs": [],
   "source": [
    "def optimal_num_features(X, y, num_features=range(100,350,50), step=range(20,35,5), n_jobs=1, random_state=1, cv=StratifiedKFold()):\n",
    "    # X: dataframe, features_opensmile\n",
    "    # y: dataframe, at least have column 'file' and 'outcome'\n",
    "    random_grid = {'clf__n_features_to_select': num_features,\n",
    "                   'clf__step': step}\n",
    "    \n",
    "    merged=X.merge(y, on='file')\n",
    "    X_ = merged.loc[:,X.columns].values\n",
    "    X_ = np.cbrt(X_)\n",
    "    y_ = merged['outcome'].values\n",
    "    \n",
    "    estimator = RandomForestClassifier(random_state=random_state, n_jobs=n_jobs, class_weight='balanced')\n",
    "    clf = RFE(estimator=estimator)\n",
    "    pipeline = Pipeline([('scale', StandardScaler()),\n",
    "                         (\"smote\", SMOTE(random_state=random_state, n_jobs=n_jobs)), \n",
    "                         (\"clf\", clf)])\n",
    "    search = RandomizedSearchCV(pipeline, random_grid, scoring=\"balanced_accuracy\", n_iter=100,\n",
    "                              random_state=random_state, n_jobs=n_jobs, cv=cv, return_train_score=True)\n",
    "    search.fit(X_, y_)\n",
    "    best_score = search.best_score_\n",
    "    print(f\"Best Tuning balanced accuracy: {best_score}\")\n",
    "    best_params = {\n",
    "        key.replace(\"clf__\", \"\"): value for key, value in search.best_params_.items()\n",
    "    }\n",
    "    print(best_params)\n",
    "    \n",
    "    best_num = best_params['n_features_to_select']\n",
    "    best_step = beat_params['step']\n",
    "    \n",
    "    return best_num, best_step"
   ]
  },
  {
   "cell_type": "code",
   "execution_count": null,
   "id": "c2a6e079",
   "metadata": {},
   "outputs": [],
   "source": [
    "kf = StratifiedKFold(n_splits=5, random_state=random_state, shuffle=True)\n",
    "best_num, best_step = optimal_num_features(features_opensmile, clinic, n_jobs=14, random_state=42, cv=kf)"
   ]
  },
  {
   "cell_type": "markdown",
   "id": "ded13578",
   "metadata": {},
   "source": [
    "# select features using optimal number of features and steps"
   ]
  },
  {
   "cell_type": "code",
   "execution_count": null,
   "id": "77ae8268",
   "metadata": {},
   "outputs": [],
   "source": [
    "def features_rfe(X, y, num_features=100, step=10, n_jobs=1, random_state=1, cv=StratifiedKFold()):\n",
    "    # X: dataframe, features_opensmile\n",
    "    # y: dataframe, at least have column 'file' and 'outcome'\n",
    "    \n",
    "    merged=X.merge(y, on='file')\n",
    "    X_ = merged.loc[:,X.columns].values\n",
    "    X_ = np.cbrt(X_)\n",
    "    y_ = merged['outcome'].values\n",
    "    \n",
    "    df_var = pd.DataFrame()\n",
    "    best_score = 0\n",
    "    f_best_score = []\n",
    "    \n",
    "    f = 0\n",
    "    for train_index, test_index in cv.split(X_, y_):\n",
    "        f+=1\n",
    "        print('fold_'+str(f))\n",
    "        # df_proba_ = pd.DataFrame()\n",
    "        \n",
    "        # split data\n",
    "        X_train = X_[train_index]\n",
    "        y_train = y_[train_index]\n",
    "        \n",
    "        X_test = X_[test_index]\n",
    "        y_test = y_[test_index]\n",
    "        \n",
    "        # scaling\n",
    "        scaler = StandardScaler()\n",
    "        scaler.fit(X_train)\n",
    "        X_train_scaled = scaler.transform(X_train)\n",
    "        X_test_scaled = scaler.transform(X_test)\n",
    "        \n",
    "        # oversampling training dataset\n",
    "        smote = SMOTE(random_state=random_state, n_jobs=n_jobs)\n",
    "        X_train_smote, y_train_smote = smote.fit_resample(X_train_scaled, y_train)\n",
    "        \n",
    "        estimator = RandomForestClassifier(random_state=random_state, n_jobs=n_jobs, class_weight='balanced')\n",
    "        \n",
    "        rfe = RFE(estimator=estimator, n_features_to_select=num_features, step=step)\n",
    "        rfe.fit(X_train_scaled, y_train)\n",
    "        df_var['f'+str(f)] = np.array(variables)[rfe.support_]\n",
    "        \n",
    "        y_pred = rfe.predict(X_test_scaled)\n",
    "        score_test = metrics.balanced_accuracy_score(y_test, y_pred)\n",
    "        print(f\"Best estimator balanced accuracy in test dataset: {score_test}\")\n",
    "        \n",
    "        if score_test > best_score:\n",
    "            best_score = score_test\n",
    "            f_best_score = 'f'+str(f)\n",
    "    feature_set = df_var[f_best_score].values\n",
    "    return feature_set"
   ]
  },
  {
   "cell_type": "code",
   "execution_count": null,
   "id": "bba38365",
   "metadata": {},
   "outputs": [],
   "source": [
    "feature_set = feature_rfe(feature_opensmile, clinic, num_feature=best_num, step=best_step, n_jobs=14, random_state=42, cv=kf)"
   ]
  }
 ],
 "metadata": {
  "kernelspec": {
   "display_name": "Python 3",
   "language": "python",
   "name": "python3"
  },
  "language_info": {
   "codemirror_mode": {
    "name": "ipython",
    "version": 3
   },
   "file_extension": ".py",
   "mimetype": "text/x-python",
   "name": "python",
   "nbconvert_exporter": "python",
   "pygments_lexer": "ipython3",
   "version": "3.8.8"
  }
 },
 "nbformat": 4,
 "nbformat_minor": 5
}
