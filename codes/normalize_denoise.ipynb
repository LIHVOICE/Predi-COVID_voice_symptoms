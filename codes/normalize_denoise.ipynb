{
 "cells": [
  {
   "cell_type": "code",
   "execution_count": null,
   "id": "f09a8a11",
   "metadata": {},
   "outputs": [],
   "source": [
    "import os\n",
    "import re\n",
    "from pydub import AudioSegment\n",
    "from pydub import effects"
   ]
  },
  {
   "cell_type": "code",
   "execution_count": null,
   "id": "742eafa7",
   "metadata": {},
   "outputs": [],
   "source": [
    "folder_audio = '' # the folder contaning original WAV files\n",
    "foldet_norm = '' # the folder where the normalized audios will be stored"
   ]
  },
  {
   "cell_type": "code",
   "execution_count": null,
   "id": "d6de080d",
   "metadata": {},
   "outputs": [],
   "source": [
    "n_file = 0\n",
    "for audio in os.listdir(folder_audio):\n",
    "    if audio.endswith('.wav'):\n",
    "        print(audio)\n",
    "        n_file+=1\n",
    "        folder_audio = os.path.join(folder_in, audio) # path of each input audio \n",
    "        \n",
    "        _sound = AudioSegment.from_file(folder_audio)\n",
    "        sound = effects.normalize(_sound) #Normalize sound\n",
    "        \n",
    "        audioname = re.split(\"\\.\", audio)\n",
    "        name_noExt = audioname[0]+\".\"+audioname[1] ### file name without extension\n",
    "        \n",
    "        folder_norm = os.path.join(folder_out, name_noExt)+\"_norm.wav\" # path of output audio\n",
    "        \n",
    "        sound.export(folder_norm, format=\"wav\") #export the normalised audio"
   ]
  },
  {
   "cell_type": "code",
   "execution_count": null,
   "id": "41fcfb31",
   "metadata": {},
   "outputs": [],
   "source": [
    "import librosa\n",
    "import logmmse"
   ]
  },
  {
   "cell_type": "code",
   "execution_count": null,
   "id": "847957a0",
   "metadata": {},
   "outputs": [],
   "source": [
    "folder_out = '' # the folder where the denoised audios will be stored"
   ]
  },
  {
   "cell_type": "code",
   "execution_count": null,
   "id": "6fac6c3d",
   "metadata": {},
   "outputs": [],
   "source": [
    "for audio in os.listdir(folder_norm): # for each audio\n",
    "    if audio.endswith(\".wav\"):\n",
    "        print(audio)\n",
    "        audioname = re.split(\"\\.\", audio)\n",
    "        name_noExt = audioname[0]+\".\"+audioname[1] ### file name without extension\n",
    "        \n",
    "        path_audio = os.path.join(folder_audio, audio) # path of each audio\n",
    "        \n",
    "        y,sr = librosa.load(path_audio, sr=None) #load audio with librosa\n",
    "        \n",
    "        folder_denoise = os.path.join(folder_out, name_noExt)+\"_denoise.wav\" # path of output audio\n",
    "        \n",
    "        logmmse.logmmse(y, sr, output_file = folder_denoise) #reduceNoise\n"
   ]
  }
 ],
 "metadata": {
  "kernelspec": {
   "display_name": "Python 3",
   "language": "python",
   "name": "python3"
  },
  "language_info": {
   "codemirror_mode": {
    "name": "ipython",
    "version": 3
   },
   "file_extension": ".py",
   "mimetype": "text/x-python",
   "name": "python",
   "nbconvert_exporter": "python",
   "pygments_lexer": "ipython3",
   "version": "3.8.8"
  }
 },
 "nbformat": 4,
 "nbformat_minor": 5
}
