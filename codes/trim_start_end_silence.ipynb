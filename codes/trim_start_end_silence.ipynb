{
 "cells": [
  {
   "cell_type": "code",
   "execution_count": 1,
   "id": "9897218c",
   "metadata": {},
   "outputs": [
    {
     "name": "stderr",
     "output_type": "stream",
     "text": [
      "C:\\Users\\lzhang\\Anaconda3\\envs\\tf\\lib\\site-packages\\pydub\\utils.py:170: RuntimeWarning: Couldn't find ffmpeg or avconv - defaulting to ffmpeg, but may not work\n",
      "  warn(\"Couldn't find ffmpeg or avconv - defaulting to ffmpeg, but may not work\", RuntimeWarning)\n"
     ]
    }
   ],
   "source": [
    "import os\n",
    "import re\n",
    "import ffmpy\n",
    "from pydub import AudioSegment\n",
    "from pydub.silence import detect_nonsilent"
   ]
  },
  {
   "cell_type": "code",
   "execution_count": null,
   "id": "8b69b860",
   "metadata": {},
   "outputs": [],
   "source": [
    "folder_audio = '' # the folder contaning the audios normalised and denoised\n",
    "folder_out = '' # the folder where the trimmed audios will be stored"
   ]
  },
  {
   "cell_type": "code",
   "execution_count": null,
   "id": "312f6bcc",
   "metadata": {},
   "outputs": [],
   "source": [
    "for audio in os.listdir(folder_audio):\n",
    "    if audio.endswith('.wav'):\n",
    "        print(audio)\n",
    "        audioname = re.split(\"\\.\", audio)\n",
    "        name_noExt = audioname[0] + \".\" + audioname[1]  ### file name without extension\n",
    "        if name_noExt not in audio_previous:\n",
    "            path_audio = os.path.join(folder_audio, audio) ## audio path\n",
    "            ff = ffmpy.FFmpeg(\n",
    "                executable='C:\\\\Users\\\\lzhang\\\\Downloads\\\\ffmpeg-20200831-4a11a6f-win64-static\\\\bin\\\\ffmpeg.exe',\n",
    "                inputs={path_audio: None},\n",
    "                outputs={'temp.wav': None})\n",
    "            ff.run() ## generate wav file which can be load using AudioSegment\n",
    "    \n",
    "            f_in = AudioSegment.from_file(\"temp.wav\") ## load audio\n",
    "            \n",
    "            ns = detect_nonsilent(f_in, silence_thresh=-40, min_silence_len=350) ## define less than 1% maximum digital as silence\n",
    "                    \n",
    "            # output file path\n",
    "            \n",
    "            f_out = os.path.join(folder_out, name_noExt) + \"_trim.wav\"\n",
    "            \n",
    "            # trim start and end silence\n",
    "            f_in[ns[0][0]:ns[len(ns)-1][1]].export(f_out, format=\"wav\")\n",
    "        \n",
    "            os.remove(\"temp.wav\")"
   ]
  }
 ],
 "metadata": {
  "kernelspec": {
   "display_name": "Python 3",
   "language": "python",
   "name": "python3"
  },
  "language_info": {
   "codemirror_mode": {
    "name": "ipython",
    "version": 3
   },
   "file_extension": ".py",
   "mimetype": "text/x-python",
   "name": "python",
   "nbconvert_exporter": "python",
   "pygments_lexer": "ipython3",
   "version": "3.8.8"
  }
 },
 "nbformat": 4,
 "nbformat_minor": 5
}
